{
 "cells": [
  {
   "cell_type": "markdown",
   "metadata": {},
   "source": [
    "## Assigments"
   ]
  },
  {
   "cell_type": "code",
   "execution_count": 15,
   "metadata": {},
   "outputs": [
    {
     "name": "stdout",
     "output_type": "stream",
     "text": [
      "{'Hans', 'Troels', 'Torben', 'Benny', 'Mille', 'Søren'}\n",
      "{'Tine'}\n",
      "1\n",
      "{'Trunte', 'Tine', 'Rane'}\n",
      "{'Tine'}\n",
      "{'Tine'}\n",
      "{'Allan', 'James', 'Ole', 'Bent', 'Anna', 'Lars', 'Niels', 'Claus', 'Stine'}\n",
      "{'Allan', 'James', 'Ole', 'Bent', 'Anna', 'Lars', 'Niels', 'Claus', 'Stine'}\n"
     ]
    }
   ],
   "source": [
    "# 1: Model an organisation of employees, management and board of directors in 3 sets.\n",
    "\n",
    "bord_of_directors = {\"Benny\", \"Hans\", \"Tine\", \"Mille\", \"Torben\", \"Troels\", \"Søren\"}\n",
    "\n",
    "management = {\"Tine\", \"Trunte\", \"Rane\"}\n",
    "\n",
    "employees = {\"Niels\", \"Anna\", \"Tine\", \"Ole\", \"Trunte\", \"Bent\", \"Rane\", \"Allan\", \"Stine\", \"Claus\", \"James\", \"Lars\"}\n",
    "\n",
    "# 1.1: Who in the board of directors is not an employee?\n",
    "print(bord_of_directors - employees); # {'Hans', 'Troels', 'Torben', 'Benny', 'Mille', 'Søren'}\n",
    "\n",
    "# 1.2: Who in the board of directors is also an employee?\n",
    "print(bord_of_directors.intersection(employees)); # {'Tine'}\n",
    "\n",
    "# 1.3: How many of the management is also member of the board?\n",
    "print(len(management.intersection(bord_of_directors))); # 1\n",
    "\n",
    "# 1.4: All members of the managent also an employee\n",
    "print(management.intersection(employees)); # {'Trunte', 'Tine', 'Rane'}\n",
    "\n",
    "# 1.5: All members of the management also in the board?\n",
    "print(management.intersection(bord_of_directors)); # {'Tine'}\n",
    "\n",
    "# 1.6: Who is an employee, member of the management, and a member of the board?\n",
    "intersectionOfEandM = employees & management;\n",
    "print(intersectionOfEandM.intersection(bord_of_directors)); # {'Tine'}\n",
    "\n",
    "# 1.7.1: Who of the employee is neither a member of the board or management?\n",
    "onlyEmployee = employees - (management | bord_of_directors)\n",
    "print(onlyEmployee);\n",
    "\n",
    "# 1.7.2 with difference:\n",
    "print(employees.difference(management, bord_of_directors));\n",
    "# {'Allan', 'James', 'Ole', 'Bent', 'Anna', 'Lars', 'Niels', 'Claus', 'Stine'}\n",
    "\n"
   ]
  },
  {
   "cell_type": "code",
   "execution_count": 22,
   "metadata": {},
   "outputs": [
    {
     "name": "stdout",
     "output_type": "stream",
     "text": [
      "[{'a': 'Alpha', 'b': 'Beta', 'g': 'Gamma'}]\n"
     ]
    }
   ],
   "source": [
    "## 2. Create a list of tuples from the following datastructure\n",
    "\n",
    "listOfTuples = [{\"a\": \"Alpha\", \"b\" : \"Beta\", \"g\": \"Gamma\"}]\n",
    "\n",
    "print(listOfTuples);"
   ]
  },
  {
   "cell_type": "code",
   "execution_count": 45,
   "metadata": {},
   "outputs": [
    {
     "name": "stdout",
     "output_type": "stream",
     "text": [
      "{'y', 'ø', 'i', 'æ', 'u', 'a', 'o', 'å', 'e'}\n",
      "{'y', 'ø', 'i', 'æ', 'u', 'a', 'o', 'å', 'e'}\n",
      "{'ø', 'æ', 'å'}\n",
      "{'ø', 'æ', 'å'}\n",
      "set()\n",
      "set()\n",
      "False\n",
      "False\n"
     ]
    }
   ],
   "source": [
    "## 3. From these 2 sets:\n",
    "\n",
    "## You should provide the solutions both using:\n",
    "# Set methods ( like: S1.union(S2) or S1.add(x)  )\n",
    "# Set oprators ( like: S1|S2 or S1&S2)\n",
    "\n",
    "\n",
    "set1 = {'a', 'e', 'i', 'o', 'u', 'y'}\n",
    "\n",
    "set2 = {'a', 'e', 'i', 'o', 'u', 'y', 'æ' ,'ø', 'å'}\n",
    "\n",
    "# 3.1.1 Create a union\n",
    "print(set1.union(set2)); # {'y', 'ø', 'i', 'æ', 'u', 'a', 'o', 'å', 'e'}  \n",
    "\n",
    "# 3.1.2 Create a union with set operators\n",
    "print(set1 | set2); \n",
    "\n",
    "# OBS: set1 & set2: This operation returns the elements that are common to both sets. It includes only the elements that exist in both sets.\n",
    "\n",
    "# 3.2.1 Symmetric Difference: returns all the items present in given sets, except the items in their intersections.\n",
    "print(set1.symmetric_difference(set2));\n",
    "\n",
    "# 3.2.2 Symmetric Difference with set operators: \n",
    "print(set1 ^ set2); \n",
    "\n",
    "# 3.3.1 Difference: containing the difference between two or more sets\n",
    "print(set1.difference(set2)); # set() = noone\n",
    "\n",
    "# 3.3.2 Difference with set operators\n",
    "print(set1 - set2); # set() = none\n",
    "# should just get whats in set1 but not set2\n",
    "\n",
    "# 3.4.1 Disjoint: no common elements between the two sets\n",
    "print(set1.isdisjoint(set2)); # False\n",
    "\n",
    "# 3.4.2 Disjoint: with set operators\n",
    "print(not bool(set1 & set2)); # False\n",
    "\n"
   ]
  },
  {
   "cell_type": "markdown",
   "metadata": {},
   "source": [
    "### 4. Date Decoder"
   ]
  },
  {
   "cell_type": "markdown",
   "metadata": {},
   "source": [
    "## A date of the form 8-MAR-85 includes the name of the month, which must be translated to a number.\n",
    "\n",
    "Create a dict suitable for decoding month names to numbers.\n",
    "\n",
    "Create a function which uses string operations to split the date into 3 items using the \"-\" character.\n",
    "\n",
    "Translate the month, correct the year to include all of the digits.\n",
    "\n",
    "The function will accept a date in the \"dd-MMM-yy\" format and respond with a tuple of ( y , m , d )."
   ]
  },
  {
   "cell_type": "code",
   "execution_count": 46,
   "metadata": {},
   "outputs": [
    {
     "name": "stdout",
     "output_type": "stream",
     "text": [
      "(1985, 3, 8)\n"
     ]
    }
   ],
   "source": [
    "monthDict = {\n",
    "  \"JAN\": 1,\n",
    "  \"FEB\": 2,\n",
    "  \"MAR\": 3,\n",
    "  \"APR\": 4,\n",
    "  \"MAY\": 5,\n",
    "  \"JUN\": 6,\n",
    "  \"JUL\": 7,\n",
    "  \"AUG\": 8,\n",
    "  \"SEP\": 9,\n",
    "  \"OCT\": 10,\n",
    "  \"NOV\": 11,\n",
    "  \"DEC\": 12\n",
    "}\n",
    "\n",
    "# function will accept \"dd-MMM-yy\" format \n",
    "\n",
    "def decode_date(date_str):\n",
    "    day, month, year = date_str.split(\"-\")\n",
    "    month_number = monthDict[month]\n",
    "\n",
    "    if int(year) >= 0 and int(year) <= 21:\n",
    "        year = \"20\" + year\n",
    "    else:\n",
    "        year = \"19\" + year\n",
    "\n",
    "    # respond with a tuple of (y, m, d)\n",
    "    return (int(year), month_number, int(day))\n",
    "\n",
    "# Test the function\n",
    "date_str = \"8-MAR-85\"\n",
    "result = decode_date(date_str)\n",
    "print(result)"
   ]
  },
  {
   "cell_type": "markdown",
   "metadata": {},
   "source": [
    "## 5. Party exercise"
   ]
  },
  {
   "cell_type": "code",
   "execution_count": 51,
   "metadata": {},
   "outputs": [
    {
     "name": "stdout",
     "output_type": "stream",
     "text": [
      "Friends who have not RSVP'd: {'Henry', 'Emma', 'Grace', 'Bob', 'Alice'}\n",
      "Friends who were not invited but RSVP'd: {'Rachel', 'Olivia', 'Mike', 'Peter', 'Lily'}\n",
      "Friends who are common in both lists: {'Jack', 'Carol', 'Ivy', 'Frank', 'David'}\n"
     ]
    }
   ],
   "source": [
    "invited_friends = {\"Alice\", \"Bob\", \"Carol\", \"David\", \"Emma\", \"Frank\", \"Grace\", \"Henry\", \"Ivy\", \"Jack\"}\n",
    "\n",
    "rsvped_friends = {\"Carol\", \"David\", \"Frank\", \"Ivy\", \"Jack\", \"Lily\", \"Mike\", \"Olivia\", \"Peter\", \"Rachel\"}\n",
    "\n",
    "# Function to gather all:\n",
    "\n",
    "def myParty(invited_friends, rsvped_friends):\n",
    "  not_rsvped = invited_friends - rsvped_friends\n",
    "  not_invited_but_rsvped = rsvped_friends - invited_friends\n",
    "  common_friends = invited_friends & rsvped_friends\n",
    "\n",
    "  return not_rsvped, not_invited_but_rsvped, common_friends\n",
    "\n",
    "\n",
    "not_rsvped, not_invited_but_rsvped, common_friends = myParty (invited_friends, rsvped_friends)\n",
    "\n",
    "print(\"Friends who have not RSVP'd:\", not_rsvped)\n",
    "print(\"Friends who were not invited but RSVP'd:\", not_invited_but_rsvped)\n",
    "print(\"Friends who are common in both lists:\", common_friends)\n"
   ]
  },
  {
   "cell_type": "markdown",
   "metadata": {},
   "source": [
    "### Students"
   ]
  },
  {
   "cell_type": "markdown",
   "metadata": {},
   "source": [
    "### You are a teacher and have a dictionary containing the names of your students as keys and their grades as values.\n",
    "\n",
    "You want to update the grades of some students and then print out the names of all students who have a grade higher than 85.\n",
    "\n",
    "Task: Write a Python program that takes a dictionary of students and their grades, updates the grades of specific students, and then prints out the names of all students who have a grade higher than 85."
   ]
  },
  {
   "cell_type": "code",
   "execution_count": 53,
   "metadata": {},
   "outputs": [
    {
     "name": "stdout",
     "output_type": "stream",
     "text": [
      "Students with grades higher than 85: ['Alice', 'Bob', 'Carol', 'David', 'Emma']\n"
     ]
    }
   ],
   "source": [
    "student_grades = {\n",
    "    \"Alice\": 90,\n",
    "    \"Bob\": 75,\n",
    "    \"Carol\": 88,\n",
    "    \"David\": 95,\n",
    "    \"Emma\": 82,\n",
    "}\n",
    "\n",
    "\n",
    "def find_students_with_high_grades(student_grades):\n",
    "    \n",
    "    student_grades[\"Bob\"] = 89\n",
    "    student_grades[\"Emma\"] = 93\n",
    "\n",
    "    high_grades_students = []\n",
    "\n",
    "    for student, grade in student_grades.items():\n",
    "        if grade > 85:\n",
    "            high_grades_students.append(student)\n",
    "\n",
    "    return high_grades_students\n",
    "\n",
    "\n",
    "high_grades_students = find_students_with_high_grades(student_grades)\n",
    "print(\"Students with grades higher than 85:\", high_grades_students)"
   ]
  }
 ],
 "metadata": {
  "kernelspec": {
   "display_name": ".venv",
   "language": "python",
   "name": "python3"
  },
  "language_info": {
   "codemirror_mode": {
    "name": "ipython",
    "version": 3
   },
   "file_extension": ".py",
   "mimetype": "text/x-python",
   "name": "python",
   "nbconvert_exporter": "python",
   "pygments_lexer": "ipython3",
   "version": "3.11.4"
  },
  "orig_nbformat": 4
 },
 "nbformat": 4,
 "nbformat_minor": 2
}
