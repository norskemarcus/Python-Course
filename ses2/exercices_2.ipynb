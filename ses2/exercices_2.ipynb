{
 "cells": [
  {
   "cell_type": "code",
   "execution_count": null,
   "metadata": {},
   "outputs": [],
   "source": [
    "\"\"\" ['Hello', 'World', 'Huston', 'we', 'are', 'here'] should become -> ['World', 'Huston', 'we', 'are']\n",
    "['Hello', 'World', 'Huston', 'we', 'are', 'here'] -> ['Hello', 'World']\n",
    "['Hello', 'World', 'Huston', 'we', 'are', 'here'] -> ['are', 'here']\n",
    "['Hello', 'World', 'Huston', 'we', 'are', 'here'] -> ['are']\n",
    "['Hello', 'World', 'Huston', 'we', 'are', 'here'] -> ['Hello', 'Huston', 'are']\n",
    "['Hello', 'World', 'Huston', 'we', 'are', 'here'] -> ['here', 'are', 'we', 'Huston', 'World', 'Hello']\n",
    "('Hello', 'World', 'Huston', 'we', 'are', 'here') should become -> ['World', 'Huston', 'we', 'are']\n",
    "'Hello World Huston we are here' -> 'World Huston we' \"\"\""
   ]
  },
  {
   "cell_type": "code",
   "execution_count": 3,
   "metadata": {},
   "outputs": [
    {
     "data": {
      "text/plain": [
       "['World', 'Huston', 'we', 'are']"
      ]
     },
     "execution_count": 3,
     "metadata": {},
     "output_type": "execute_result"
    }
   ],
   "source": [
    "a1 = ['Hello', 'World', 'Huston', 'we', 'are', 'here']\n",
    "#should become -> ['World', 'Huston', 'we', 'are']\n",
    "a1 = a1[1:5]\n",
    "a1"
   ]
  },
  {
   "cell_type": "code",
   "execution_count": 4,
   "metadata": {},
   "outputs": [
    {
     "data": {
      "text/plain": [
       "['Hello', 'World']"
      ]
     },
     "execution_count": 4,
     "metadata": {},
     "output_type": "execute_result"
    }
   ],
   "source": [
    "a2 = ['Hello', 'World', 'Huston', 'we', 'are', 'here'] \n",
    "#-> ['Hello', 'World']\n",
    "a2 = a2[:2]\n",
    "a2"
   ]
  },
  {
   "cell_type": "code",
   "execution_count": 6,
   "metadata": {},
   "outputs": [
    {
     "data": {
      "text/plain": [
       "['are', 'here']"
      ]
     },
     "execution_count": 6,
     "metadata": {},
     "output_type": "execute_result"
    }
   ],
   "source": [
    "a3 = ['Hello', 'World', 'Huston', 'we', 'are', 'here'] \n",
    "#-> ['are', 'here']\n",
    "a3 = a3[-2:]\n",
    "a3"
   ]
  },
  {
   "cell_type": "code",
   "execution_count": 8,
   "metadata": {},
   "outputs": [
    {
     "data": {
      "text/plain": [
       "['are']"
      ]
     },
     "execution_count": 8,
     "metadata": {},
     "output_type": "execute_result"
    }
   ],
   "source": [
    "a4 = ['Hello', 'World', 'Huston', 'we', 'are', 'here'] \n",
    "#-> ['are']\n",
    "a4 = a4[-2:-1]\n",
    "a4"
   ]
  },
  {
   "cell_type": "code",
   "execution_count": 9,
   "metadata": {},
   "outputs": [
    {
     "name": "stdout",
     "output_type": "stream",
     "text": [
      "['Hello', 'Huston', 'are']\n"
     ]
    }
   ],
   "source": [
    "a5 = ['Hello', 'World', 'Huston', 'we', 'are', 'here'] \n",
    "#-> ['Hello', 'Huston', 'are']\n",
    "\n",
    "result = []\n",
    "\n",
    "# In this code, the range(0, len(a5), 2) generates a sequence of indices where the step is 2, so it will iterate through every other index in the list. Then, the words at those indices are appended to the result\n",
    "\n",
    "# looper igennem\n",
    "for i in range(0, len(a5), 2):\n",
    "    result.append(a5[i])\n",
    "\n",
    "print(result)"
   ]
  },
  {
   "cell_type": "code",
   "execution_count": 16,
   "metadata": {},
   "outputs": [
    {
     "name": "stdout",
     "output_type": "stream",
     "text": [
      "here\n",
      "are\n",
      "we\n",
      "Huston\n",
      "World\n",
      "Hello\n",
      "here are we Huston World Hello\n"
     ]
    }
   ],
   "source": [
    "a6 = ['Hello', 'World', 'Huston', 'we', 'are', 'here'] \n",
    "#-> ['here', 'are', 'we', 'Huston', 'World', 'Hello']\n",
    "\n",
    "r= reversed(a6)\n",
    "\n",
    "for i in r:\n",
    "   print(i)\n",
    "\n",
    "## Anden måde at få det på én linje\n",
    "reversed_a6 = a6[::-1]\n",
    "\n",
    "result = ' '.join(reversed_a6)\n",
    "print(result)"
   ]
  },
  {
   "cell_type": "markdown",
   "metadata": {},
   "source": [
    "### Fra tuple to list med list()"
   ]
  },
  {
   "cell_type": "code",
   "execution_count": 19,
   "metadata": {},
   "outputs": [
    {
     "name": "stdout",
     "output_type": "stream",
     "text": [
      "['World', 'Huston', 'we', 'are']\n"
     ]
    }
   ],
   "source": [
    "a7 = ('Hello', 'World', 'Huston', 'we', 'are', 'here') \n",
    "# -> ['World', 'Huston', 'we', 'are']\n",
    "\n",
    "a7_list = list(a7[1:-1])\n",
    "print(a7_list)"
   ]
  },
  {
   "cell_type": "markdown",
   "metadata": {},
   "source": [
    "### Split a string into a list of words"
   ]
  },
  {
   "cell_type": "code",
   "execution_count": 20,
   "metadata": {},
   "outputs": [
    {
     "name": "stdout",
     "output_type": "stream",
     "text": [
      "World Huston we\n"
     ]
    }
   ],
   "source": [
    "a8 = 'Hello World Huston we are here' \n",
    "# -> 'World Huston we'\n",
    "\n",
    "words = a8.split()  # Split the string into a list of words\n",
    "selected_words = words[1:4]  # Select the words you want (index 1 to 3)\n",
    "result = ' '.join(selected_words)  # Join the selected words back into a string\n",
    "print(result)"
   ]
  },
  {
   "cell_type": "markdown",
   "metadata": {},
   "source": [
    "### Ex 1: Build-in functions - liste over alle"
   ]
  },
  {
   "cell_type": "code",
   "execution_count": null,
   "metadata": {},
   "outputs": [],
   "source": [
    "\n",
    "\n",
    "# A\n",
    "abs()\n",
    "aiter()\n",
    "all()\n",
    "anext()\n",
    "any()\n",
    "ascii()\n",
    "\n",
    "# B\n",
    "bin()\n",
    "bool()\n",
    "breakpoint()\n",
    "bytearray()\n",
    "bytes()\n",
    "\n",
    "# C\n",
    "callable()\n",
    "chr()\n",
    "classmethod()\n",
    "compile()\n",
    "complex()\n",
    "\n",
    "# D\n",
    "delattr()\n",
    "dict()\n",
    "dir()\n",
    "divmod()\n",
    "\n",
    "# E\n",
    "enumerate()\n",
    "eval()\n",
    "exec()\n",
    "\n",
    "# F\n",
    "filter()\n",
    "float()\n",
    "format()\n",
    "frozenset()\n",
    "\n",
    "# G\n",
    "getattr()\n",
    "globals()\n",
    "\n",
    "# H\n",
    "hasattr()\n",
    "hash()\n",
    "help()\n",
    "hex()\n",
    "\n",
    "# I\n",
    "id()\n",
    "input()\n",
    "int()\n",
    "isinstance()\n",
    "issubclass()\n",
    "iter()\n",
    "\n",
    "# L\n",
    "len()\n",
    "list()\n",
    "locals()\n",
    "\n",
    "# M\n",
    "map()\n",
    "max()\n",
    "memoryview()\n",
    "min()\n",
    "\n",
    "# N\n",
    "next()\n",
    "\n",
    "# O\n",
    "object()\n",
    "oct()\n",
    "open()\n",
    "ord()\n",
    "\n",
    "# P\n",
    "pow()\n",
    "print()\n",
    "property()\n",
    "\n",
    "# R\n",
    "range()\n",
    "repr()\n",
    "reversed()\n",
    "round()\n",
    "\n",
    "# S\n",
    "set()\n",
    "setattr()\n",
    "slice()\n",
    "sorted()\n",
    "staticmethod()\n",
    "str()\n",
    "sum()\n",
    "# super only valid within a class: super()\n",
    "\n",
    "# T\n",
    "tuple()\n",
    "type()\n",
    "\n",
    "# V\n",
    "vars()\n",
    "\n",
    "# Z\n",
    "zip()\n"
   ]
  },
  {
   "cell_type": "markdown",
   "metadata": {},
   "source": [
    "### Built in functions on a list"
   ]
  },
  {
   "cell_type": "code",
   "execution_count": 25,
   "metadata": {},
   "outputs": [
    {
     "name": "stdout",
     "output_type": "stream",
     "text": [
      "all: True\n",
      "any: True\n",
      "bin: 0b101010\n",
      "bool: True\n",
      "chr: A\n",
      "enumerate: 0 George\n",
      "enumerate: 1 Bejamin\n",
      "enumerate: 2 Thomas\n",
      "enumerate: 3 John\n",
      "filter: ['George', 'Bejamin', 'Thomas']\n",
      "len: 4\n",
      "map: ['GEORGE', 'BEJAMIN', 'THOMAS', 'JOHN']\n",
      "reversed: ['John', 'Thomas', 'Bejamin', 'George']\n",
      "sorted: ['Bejamin', 'George', 'John', 'Thomas']\n",
      "zip: [(1, 'A'), (2, 'B'), (3, 'C')]\n"
     ]
    }
   ],
   "source": [
    "\n",
    "names = ['George', 'Bejamin', 'Thomas', 'John']\n",
    "\n",
    "\n",
    "# A\n",
    "print(\"all:\", all(names))  # True (all elements are truthy)\n",
    "print(\"any:\", any(names))  # True (at least one element is truthy)\n",
    "\n",
    "# B\n",
    "print(\"bin:\", bin(42))  # '0b101010' (binary representation of 42)\n",
    "print(\"bool:\", bool(names))  # True (list is not empty)\n",
    "\n",
    "# C\n",
    "print(\"chr:\", chr(65))  # 'A' (character for ASCII code 65)\n",
    "\n",
    "# E\n",
    "enum_names = enumerate(names)\n",
    "for index, name in enum_names:\n",
    "    print(\"enumerate:\", index, name)\n",
    "\n",
    "# F\n",
    "filtered_names = filter(lambda name: len(name) > 5, names)\n",
    "print(\"filter:\", list(filtered_names))  # ['George', 'Bejamin', 'Thomas']\n",
    "\n",
    "# L\n",
    "print(\"len:\", len(names))  # 4\n",
    "\n",
    "# M\n",
    "mapped_names = map(lambda name: name.upper(), names)\n",
    "print(\"map:\", list(mapped_names))  # ['GEORGE', 'BENJAMIN', 'THOMAS', 'JOHN']\n",
    "\n",
    "# R\n",
    "print(\"reversed:\", list(reversed(names)))  # ['John', 'Thomas', 'Bejamin', 'George']\n",
    "\n",
    "# S\n",
    "print(\"Sorted-names:\", sorted(names))  # ['Bejamin', 'George', 'John', 'Thomas']\n",
    "\n",
    "# Z\n",
    "numbers = [1, 2, 3]\n",
    "letters = ['A', 'B', 'C']\n",
    "zipped = zip(numbers, letters)\n",
    "print(\"zip:\", list(zipped))  # [(1, 'A'), (2, 'B'), (3, 'C')]\n"
   ]
  },
  {
   "cell_type": "markdown",
   "metadata": {},
   "source": [
    "## Ex 1.1: Is it a tuple or a list?"
   ]
  },
  {
   "cell_type": "code",
   "execution_count": 27,
   "metadata": {},
   "outputs": [
    {
     "name": "stdout",
     "output_type": "stream",
     "text": [
      "<class 'tuple'>\n",
      "<class 'list'>\n"
     ]
    }
   ],
   "source": [
    "# A list is a collection of the same type of data, a tuple is a record (e.g. in a database a record is called a row\n",
    "\n",
    "b1 = ('Claus', 51, 'male', 'clbo@kea.dk', 31011970-1313)\n",
    "print(type(b1)) # tuple\n",
    "\n",
    "b2 = ['Bmw', 'Toyota', 'Hyundai', 'Skoda', 'Fiat', 'Volvo']\n",
    "print(type(b2)) # list\n",
    "\n",
    "#b3 = [Claus, Henning, Torben, Carl, Tine]\n",
    "# list\n",
    "\n",
    "#b4 = ‘Hello’, ‘World’, ‘Huston’, ‘we’, ‘are’, ‘here’\n",
    "# This is not syntactically valid. To create a list or tuple, you should enclose the elements in either square brackets [ ] or parentheses ( ).\n",
    "\n",
    "#b5 = (Rolling Stones, Goats Head Soup, 31 August 1973, 46:56)\n",
    "# tuple, men mangler '' omkring tekst\n",
    "\n",
    "#b6 = (40.730610, -73.935242, New York City, NY, USA; 31.739847, 65.755920, Kandahar, Kandahar Province, Afghanistan)\n",
    "# tuple, men mangler '' omkring tekst"
   ]
  },
  {
   "cell_type": "markdown",
   "metadata": {},
   "source": [
    "## Ex 2: Sort a Text"
   ]
  },
  {
   "cell_type": "markdown",
   "metadata": {},
   "source": [
    "## 1. Create a function that takes a string as a parameter and returns a list."
   ]
  },
  {
   "cell_type": "code",
   "execution_count": 30,
   "metadata": {},
   "outputs": [
    {
     "name": "stdout",
     "output_type": "stream",
     "text": [
      "['A', 'B', 'C', 'D', 'E']\n"
     ]
    }
   ],
   "source": [
    "def return_list_from_string(string):\n",
    "    return list(string)\n",
    "  \n",
    "print(return_list_from_string('ABCDE'))"
   ]
  },
  {
   "cell_type": "markdown",
   "metadata": {},
   "source": [
    "## 2. The function should remove all vowels and sort the consonants in alphabetic order, and the return the result."
   ]
  },
  {
   "cell_type": "code",
   "execution_count": 31,
   "metadata": {},
   "outputs": [
    {
     "name": "stdout",
     "output_type": "stream",
     "text": [
      "HWdlllr\n"
     ]
    }
   ],
   "source": [
    "input_string = \"Hello World\"\n",
    "vowels = ['a','e','i','o','u','y','æ', 'ø', 'å']\n",
    "\n",
    "def remove_vowels_and_sort_consonants(string):\n",
    "    vowels = 'AEIOUaeiou'\n",
    "    consonants = [char for char in string if char.isalpha() and char not in vowels]\n",
    "    sorted_consonants = sorted(consonants)\n",
    "    result = ''.join(sorted_consonants)\n",
    "    return result\n",
    "\n",
    "\n",
    "result = remove_vowels_and_sort_consonants(input_string)\n",
    "print(result)  # This will print \"HllWrld\"\n"
   ]
  },
  {
   "cell_type": "markdown",
   "metadata": {},
   "source": [
    "## 3. Sort a list"
   ]
  },
  {
   "cell_type": "code",
   "execution_count": null,
   "metadata": {},
   "outputs": [],
   "source": [
    "# 3.1 Create a list of strings with names in it. (l = [‘Claus’, ‘Ib’, ‘Per’])\n",
    "\n",
    "listOfNames = ['Marcus', 'Tommy', 'Sebastian']\n",
    "\n",
    "# 3.1 Sort this list by using the sorted() build in function.\n",
    "\n",
    "sorted_names = sorted(listOfNames, key=len)\n",
    "print(sorted_names)\n",
    "\n",
    "\n",
    "\n",
    "# 3.2 Sort the list in reversed order.\n",
    "\n",
    "### OBS OBS husk at bruge et for loop når man benytter reversed()\n",
    "\n",
    "for i in reversed(listOfNames):\n",
    "   print(i)\n",
    "\n",
    "\n",
    "\n",
    "# 3.3 Sort the list on the lenght of the name.\n",
    "\n",
    "# 3.3 Sort the list based on the last letter in the name.\n",
    "\n",
    "# 3.4 Sort the list in a way that the names that has an ‘a’ in it should be sorted first (still alphabetically)."
   ]
  },
  {
   "cell_type": "code",
   "execution_count": 70,
   "metadata": {},
   "outputs": [
    {
     "ename": "TypeError",
     "evalue": "'list' object is not callable",
     "output_type": "error",
     "traceback": [
      "\u001b[1;31m---------------------------------------------------------------------------\u001b[0m",
      "\u001b[1;31mTypeError\u001b[0m                                 Traceback (most recent call last)",
      "Cell \u001b[1;32mIn[70], line 3\u001b[0m\n\u001b[0;32m      1\u001b[0m listOfNames \u001b[39m=\u001b[39m [\u001b[39m'\u001b[39m\u001b[39mMarcus\u001b[39m\u001b[39m'\u001b[39m, \u001b[39m'\u001b[39m\u001b[39mTommy\u001b[39m\u001b[39m'\u001b[39m, \u001b[39m'\u001b[39m\u001b[39mSebastian\u001b[39m\u001b[39m'\u001b[39m]\n\u001b[1;32m----> 3\u001b[0m sorted_names \u001b[39m=\u001b[39m \u001b[39msorted\u001b[39;49m(listOfNames, key\u001b[39m=\u001b[39;49m\u001b[39mlen\u001b[39;49m)\n\u001b[0;32m      4\u001b[0m \u001b[39mprint\u001b[39m(sorted_names)\n",
      "\u001b[1;31mTypeError\u001b[0m: 'list' object is not callable"
     ]
    }
   ],
   "source": [
    "listOfNames = ['Marcus', 'Tommy', 'Sebastian']\n",
    "\n",
    "sorted_names = sorted(listOfNames, key=len)\n",
    "print(sorted_names)\n"
   ]
  }
 ],
 "metadata": {
  "kernelspec": {
   "display_name": ".venv",
   "language": "python",
   "name": "python3"
  },
  "language_info": {
   "codemirror_mode": {
    "name": "ipython",
    "version": 3
   },
   "file_extension": ".py",
   "mimetype": "text/x-python",
   "name": "python",
   "nbconvert_exporter": "python",
   "pygments_lexer": "ipython3",
   "version": "3.11.4"
  },
  "orig_nbformat": 4
 },
 "nbformat": 4,
 "nbformat_minor": 2
}
