{
 "cells": [
  {
   "cell_type": "markdown",
   "metadata": {},
   "source": [
    "# Session 2 demo in class"
   ]
  },
  {
   "cell_type": "markdown",
   "metadata": {},
   "source": [
    "## List and tuple"
   ]
  },
  {
   "cell_type": "code",
   "execution_count": 2,
   "metadata": {},
   "outputs": [
    {
     "name": "stdout",
     "output_type": "stream",
     "text": [
      "apple\n",
      "banana\n",
      "cherry\n"
     ]
    }
   ],
   "source": [
    "# list, kan godt være forskellige datatyper inde i en liste, men helst ikke? alt er objekter\n",
    "l = [1,2,3,4]\n",
    "l\n",
    "\n",
    "# tuple - kan ikke ændres, records, row i en database, forskellige datatyper\n",
    "t = (1,2,3, 'Claus', 23232323-1111)\n",
    "t\n",
    "\n",
    "this_tuple = (\"apple\", \"banana\", \"cherry\")\n",
    "for x in this_tuple:\n",
    "  print(x)\n",
    "\n"
   ]
  },
  {
   "cell_type": "markdown",
   "metadata": {},
   "source": [
    "## Reference"
   ]
  },
  {
   "cell_type": "code",
   "execution_count": 7,
   "metadata": {},
   "outputs": [
    {
     "data": {
      "text/plain": [
       "4"
      ]
     },
     "execution_count": 7,
     "metadata": {},
     "output_type": "execute_result"
    }
   ],
   "source": [
    "l = [1,2,3,4]\n",
    "l[2]\n",
    "\n",
    "# slice\n",
    "l[2:4]\n",
    "l[-1]\n"
   ]
  },
  {
   "cell_type": "markdown",
   "metadata": {},
   "source": [
    "## Changing values"
   ]
  },
  {
   "cell_type": "code",
   "execution_count": 19,
   "metadata": {},
   "outputs": [
    {
     "data": {
      "text/plain": [
       "11"
      ]
     },
     "execution_count": 19,
     "metadata": {},
     "output_type": "execute_result"
    }
   ],
   "source": [
    "\n"
   ]
  },
  {
   "cell_type": "markdown",
   "metadata": {},
   "source": [
    "## Build in functions"
   ]
  },
  {
   "cell_type": "code",
   "execution_count": 11,
   "metadata": {},
   "outputs": [
    {
     "name": "stdout",
     "output_type": "stream",
     "text": [
      "4\n",
      "3\n",
      "2\n",
      "1\n"
     ]
    }
   ],
   "source": [
    "# virker også på lister og tupler etc.\n",
    "l = [1,2,3,4]\n",
    "len(l)\n",
    "r= reversed(l)\n",
    "\n",
    "# for each loop, kan også bruge reversed til at reversere rækkefølgen\n",
    "for i in r:\n",
    "   print(i)\n",
    "\n",
    "\n",
    "\n",
    "## metoder = .foran"
   ]
  },
  {
   "cell_type": "markdown",
   "metadata": {},
   "source": [
    "## Conceatenate and multiply"
   ]
  },
  {
   "cell_type": "code",
   "execution_count": 22,
   "metadata": {},
   "outputs": [
    {
     "data": {
      "text/plain": [
       "'Hello world12'"
      ]
     },
     "execution_count": 22,
     "metadata": {},
     "output_type": "execute_result"
    }
   ],
   "source": [
    "\n"
   ]
  },
  {
   "cell_type": "markdown",
   "metadata": {},
   "source": [
    "## Loop"
   ]
  },
  {
   "cell_type": "code",
   "execution_count": null,
   "metadata": {},
   "outputs": [],
   "source": [
    "for i in range(1,11):\n",
    "   print(i)\n"
   ]
  },
  {
   "cell_type": "markdown",
   "metadata": {},
   "source": [
    "## Sortering med sorted()"
   ]
  },
  {
   "cell_type": "code",
   "execution_count": 26,
   "metadata": {},
   "outputs": [
    {
     "name": "stdout",
     "output_type": "stream",
     "text": [
      "['Bo', 'Ib', 'Anna', 'Claus']\n"
     ]
    },
    {
     "data": {
      "text/plain": [
       "True"
      ]
     },
     "execution_count": 26,
     "metadata": {},
     "output_type": "execute_result"
    }
   ],
   "source": [
    "l = ['Claus', 'Anna', 'Bo', 'Ib']\n",
    "sorted(l)\n",
    "\n",
    " # sorterer efter nummer\n",
    "\n",
    "# ASCII tabel giver nr 97\n",
    "ord('a')\n",
    "\n",
    "# reversed. bruge loop\n",
    "# eller man kan bruge denne:\n",
    "sorted(l, reverse = True)\n",
    "\n",
    "# sortere på længden, key parameter kan bruge, ikke eksikvere --> typisk eksamensspm!\n",
    "sorted(l, key=len)\n",
    "\n",
    "# proxy values = antal tegn, sorterer ud fra den?\n",
    "\n",
    "# lave en funktion for at sortere på sidste bogstav\n",
    "def last_letter(x):\n",
    "    return x[-1]\n",
    "\n",
    "sorted(l, key= last_letter)\n",
    "\n",
    "\n",
    "# sortere på både længde og første bogstav - hvad skal prioriteres??\n",
    "l = ['Claus', 'Anna', 'Bo', 'Ib']\n",
    "\n",
    "def custom_sort_key(item):\n",
    "    return len(item), item[0]\n",
    "\n",
    "sorted_l = sorted(l, key=custom_sort_key)\n",
    "\n",
    "print(sorted_l)\n",
    "\n",
    "# Check om det er en callable = true, hvis tekst = False\n",
    "callable(last_letter)\n",
    "\n"
   ]
  },
  {
   "cell_type": "markdown",
   "metadata": {},
   "source": [
    "### Methods"
   ]
  },
  {
   "cell_type": "code",
   "execution_count": 40,
   "metadata": {},
   "outputs": [
    {
     "data": {
      "text/plain": [
       "True"
      ]
     },
     "execution_count": 40,
     "metadata": {},
     "output_type": "execute_result"
    }
   ],
   "source": [
    "l = ['Claus', 'Anna', 'Bo', 'Ib']\n",
    "\n",
    "# l._add_(l) = grem, ikke bruge\n",
    "\n",
    "# endswith er en METODE (ikke en indbygget funktion) for at undersøge om strengen indeholder den givne bogstav. OBS kun til strenge og ikke til en liste\n",
    "l + l\n",
    "t = 'Hej'\n",
    "t.endswith('j') # = true\n",
    "\n"
   ]
  },
  {
   "cell_type": "markdown",
   "metadata": {},
   "source": [
    "### Files, read from files\n"
   ]
  },
  {
   "cell_type": "code",
   "execution_count": 49,
   "metadata": {},
   "outputs": [
    {
     "data": {
      "text/plain": [
       "11"
      ]
     },
     "execution_count": 49,
     "metadata": {},
     "output_type": "execute_result"
    }
   ],
   "source": [
    "f = open('script.py', 'w') ## obs: w laver en ny fil, overskriver det eksisterende, a vil tilføje i stedet for\n",
    "# open kan også åbne database\n",
    "# bruge metoder\n",
    "#f.read()\n",
    "f.write('Hello hello')\n"
   ]
  },
  {
   "cell_type": "code",
   "execution_count": 51,
   "metadata": {},
   "outputs": [
    {
     "data": {
      "text/plain": [
       "11"
      ]
     },
     "execution_count": 51,
     "metadata": {},
     "output_type": "execute_result"
    }
   ],
   "source": [
    "f = open('script.py', 'a') ## obs:  a vil tilføje i stedet for, a = append, r = read\n",
    "# open kan også åbne database\n",
    "# bruge metoder\n",
    "#f.read()\n",
    "f.write('Hello hello')"
   ]
  },
  {
   "cell_type": "code",
   "execution_count": 44,
   "metadata": {},
   "outputs": [
    {
     "data": {
      "text/plain": [
       "'el'"
      ]
     },
     "execution_count": 44,
     "metadata": {},
     "output_type": "execute_result"
    }
   ],
   "source": [
    "def write(x):\n",
    "    # skriv til fil objektet\n",
    "    return len(x)"
   ]
  },
  {
   "cell_type": "markdown",
   "metadata": {},
   "source": [
    "### Data Types"
   ]
  },
  {
   "cell_type": "code",
   "execution_count": 8,
   "metadata": {},
   "outputs": [
    {
     "name": "stdout",
     "output_type": "stream",
     "text": [
      "0\n",
      "<class 'int'>\n",
      "0\n",
      "0\n",
      "0\n",
      "0\n",
      "0\n"
     ]
    }
   ],
   "source": [
    "\n"
   ]
  },
  {
   "cell_type": "markdown",
   "metadata": {},
   "source": [
    "## Random Number - husk at importere random!"
   ]
  },
  {
   "cell_type": "code",
   "execution_count": 49,
   "metadata": {},
   "outputs": [
    {
     "name": "stdout",
     "output_type": "stream",
     "text": [
      "9\n"
     ]
    }
   ],
   "source": [
    "# Import the random module, and display a random number between 1 and 10:\n",
    "\n",
    "import random\n",
    "\n",
    "print(random.randrange(1, 11))"
   ]
  },
  {
   "cell_type": "markdown",
   "metadata": {},
   "source": [
    "## Check with in\n"
   ]
  },
  {
   "cell_type": "code",
   "execution_count": 54,
   "metadata": {},
   "outputs": [
    {
     "name": "stdout",
     "output_type": "stream",
     "text": [
      "True\n",
      "Yes, 'free' is present.\n"
     ]
    }
   ],
   "source": [
    "txt = \"The best things in life are free!\"\n",
    "print(\"free\" in txt)\n",
    "\n",
    "txt = \"The best things in life are free!\"\n",
    "if \"free\" in txt:\n",
    "  print(\"Yes, 'free' is present.\")"
   ]
  },
  {
   "cell_type": "markdown",
   "metadata": {},
   "source": [
    "## Check if NOT"
   ]
  },
  {
   "cell_type": "code",
   "execution_count": 57,
   "metadata": {},
   "outputs": [
    {
     "name": "stdout",
     "output_type": "stream",
     "text": [
      "True\n",
      "No, 'expensive' is NOT present.\n"
     ]
    }
   ],
   "source": [
    "# To check if a certain phrase or character is NOT present in a string, we can use the keyword not in.\n",
    "\n",
    "txt = \"The best things in life are free!\"\n",
    "print(\"expensive\" not in txt)\n",
    "\n",
    "txt = \"The best things in life are free!\"\n",
    "if \"expensive\" not in txt:\n",
    "  print(\"No, 'expensive' is NOT present.\")"
   ]
  }
 ],
 "metadata": {
  "kernelspec": {
   "display_name": ".venv",
   "language": "python",
   "name": "python3"
  },
  "language_info": {
   "codemirror_mode": {
    "name": "ipython",
    "version": 3
   },
   "file_extension": ".py",
   "mimetype": "text/x-python",
   "name": "python",
   "nbconvert_exporter": "python",
   "pygments_lexer": "ipython3",
   "version": "3.11.4"
  },
  "orig_nbformat": 4
 },
 "nbformat": 4,
 "nbformat_minor": 2
}
