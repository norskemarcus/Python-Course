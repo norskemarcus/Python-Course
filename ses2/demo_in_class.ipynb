{
 "cells": [
  {
   "cell_type": "markdown",
   "metadata": {},
   "source": [
    "# Session 2 demo in class"
   ]
  },
  {
   "cell_type": "markdown",
   "metadata": {},
   "source": [
    "## List and tuple"
   ]
  },
  {
   "cell_type": "code",
   "execution_count": 4,
   "metadata": {},
   "outputs": [
    {
     "data": {
      "text/plain": [
       "(1, 2, 3, 'Claus', 23231212)"
      ]
     },
     "execution_count": 4,
     "metadata": {},
     "output_type": "execute_result"
    }
   ],
   "source": [
    "# list, kan godt være forskellige datatyper inde i en liste, men helst ikke? alt er objekter\n",
    "l = [1,2,3,4]\n",
    "l\n",
    "\n",
    "# tuple - kan ikke ændres, records, row i en database, forskellige datatyper\n",
    "t = (1,2,3, 'Claus', 23232323-1111)\n",
    "t\n",
    "\n"
   ]
  },
  {
   "cell_type": "markdown",
   "metadata": {},
   "source": [
    "## Reference"
   ]
  },
  {
   "cell_type": "code",
   "execution_count": 7,
   "metadata": {},
   "outputs": [
    {
     "data": {
      "text/plain": [
       "4"
      ]
     },
     "execution_count": 7,
     "metadata": {},
     "output_type": "execute_result"
    }
   ],
   "source": [
    "l = [1,2,3,4]\n",
    "l[2]\n",
    "\n",
    "# slice\n",
    "l[2:4]\n",
    "l[-1]\n"
   ]
  },
  {
   "cell_type": "markdown",
   "metadata": {},
   "source": [
    "## Changing values"
   ]
  },
  {
   "cell_type": "code",
   "execution_count": 19,
   "metadata": {},
   "outputs": [
    {
     "data": {
      "text/plain": [
       "11"
      ]
     },
     "execution_count": 19,
     "metadata": {},
     "output_type": "execute_result"
    }
   ],
   "source": [
    "\n"
   ]
  },
  {
   "cell_type": "markdown",
   "metadata": {},
   "source": [
    "## Build in functions"
   ]
  },
  {
   "cell_type": "code",
   "execution_count": 11,
   "metadata": {},
   "outputs": [
    {
     "name": "stdout",
     "output_type": "stream",
     "text": [
      "4\n",
      "3\n",
      "2\n",
      "1\n"
     ]
    }
   ],
   "source": [
    "# virker også på lister og tupler etc.\n",
    "l = [1,2,3,4]\n",
    "len(l)\n",
    "r= reversed(l)\n",
    "\n",
    "# for each loop, kan også bruge reversed til at reversere rækkefølgen\n",
    "for i in r:\n",
    "   print(i)\n",
    "\n",
    "\n",
    "\n",
    "## metoder = .foran"
   ]
  },
  {
   "cell_type": "markdown",
   "metadata": {},
   "source": [
    "## Conceatenate and multiply"
   ]
  },
  {
   "cell_type": "code",
   "execution_count": 22,
   "metadata": {},
   "outputs": [
    {
     "data": {
      "text/plain": [
       "'Hello world12'"
      ]
     },
     "execution_count": 22,
     "metadata": {},
     "output_type": "execute_result"
    }
   ],
   "source": [
    "\n"
   ]
  },
  {
   "cell_type": "markdown",
   "metadata": {},
   "source": [
    "## Loop"
   ]
  },
  {
   "cell_type": "code",
   "execution_count": 14,
   "metadata": {},
   "outputs": [
    {
     "name": "stdout",
     "output_type": "stream",
     "text": [
      "1\n",
      "2\n",
      "3\n",
      "4\n",
      "5\n",
      "6\n",
      "7\n",
      "8\n",
      "9\n",
      "10\n"
     ]
    }
   ],
   "source": [
    "for i in range(1,11):\n",
    "   print(i)\n",
    "\n"
   ]
  },
  {
   "cell_type": "markdown",
   "metadata": {},
   "source": [
    "## Sortering med sorted()"
   ]
  },
  {
   "cell_type": "code",
   "execution_count": 26,
   "metadata": {},
   "outputs": [
    {
     "name": "stdout",
     "output_type": "stream",
     "text": [
      "['Bo', 'Ib', 'Anna', 'Claus']\n"
     ]
    },
    {
     "data": {
      "text/plain": [
       "True"
      ]
     },
     "execution_count": 26,
     "metadata": {},
     "output_type": "execute_result"
    }
   ],
   "source": [
    "l = ['Claus', 'Anna', 'Bo', 'Ib']\n",
    "sorted(l)\n",
    "\n",
    " # sorterer efter nummer\n",
    "\n",
    "# ASCII tabel giver nr 97\n",
    "ord('a')\n",
    "\n",
    "# reversed. bruge loop\n",
    "# eller man kan bruge denne:\n",
    "sorted(l, reverse = True)\n",
    "\n",
    "# sortere på længden, key parameter kan bruge, ikke eksikvere --> typisk eksamensspm!\n",
    "sorted(l, key=len)\n",
    "\n",
    "# proxy values = antal tegn, sorterer ud fra den?\n",
    "\n",
    "# lave en funktion for at sortere på sidste bogstav\n",
    "def last_letter(x):\n",
    "    return x[-1]\n",
    "\n",
    "sorted(l, key= last_letter)\n",
    "\n",
    "\n",
    "# sortere på både længde og første bogstav - hvad skal prioriteres??\n",
    "l = ['Claus', 'Anna', 'Bo', 'Ib']\n",
    "\n",
    "def custom_sort_key(item):\n",
    "    return len(item), item[0]\n",
    "\n",
    "sorted_l = sorted(l, key=custom_sort_key)\n",
    "\n",
    "print(sorted_l)\n",
    "\n",
    "# Check om det er en callable = true, hvis tekst = False\n",
    "callable(last_letter)\n",
    "\n"
   ]
  },
  {
   "cell_type": "markdown",
   "metadata": {},
   "source": [
    "### Methods"
   ]
  },
  {
   "cell_type": "code",
   "execution_count": 40,
   "metadata": {},
   "outputs": [
    {
     "data": {
      "text/plain": [
       "True"
      ]
     },
     "execution_count": 40,
     "metadata": {},
     "output_type": "execute_result"
    }
   ],
   "source": [
    "l = ['Claus', 'Anna', 'Bo', 'Ib']\n",
    "\n",
    "# l._add_(l) = grem, ikke bruge\n",
    "\n",
    "# endswith er en METODE (ikke en indbygget funktion) for at undersøge om strengen indeholder den givne bogstav. OBS kun til strenge og ikke til en liste\n",
    "l + l\n",
    "t = 'Hej'\n",
    "t.endswith('j') # = true\n",
    "\n"
   ]
  },
  {
   "cell_type": "markdown",
   "metadata": {},
   "source": [
    "### String methods"
   ]
  },
  {
   "cell_type": "code",
   "execution_count": 43,
   "metadata": {},
   "outputs": [],
   "source": [
    "a = 'Hello'"
   ]
  },
  {
   "cell_type": "markdown",
   "metadata": {},
   "source": [
    "### Strings are indexed"
   ]
  },
  {
   "cell_type": "code",
   "execution_count": 44,
   "metadata": {},
   "outputs": [
    {
     "data": {
      "text/plain": [
       "'el'"
      ]
     },
     "execution_count": 44,
     "metadata": {},
     "output_type": "execute_result"
    }
   ],
   "source": [
    "a[0]\n",
    "a[-1]\n",
    "## Interval, substrings\n",
    "a[1:4]\n",
    "a[1:]\n",
    "# step parameter/værdi, hoppe over 2 hver gang [inklusiv, eksklusiv, antal hoppe over]\n",
    "a[1:4:2]"
   ]
  },
  {
   "cell_type": "markdown",
   "metadata": {},
   "source": [
    "### String formating"
   ]
  },
  {
   "cell_type": "markdown",
   "metadata": {},
   "source": [
    "**Old way**"
   ]
  },
  {
   "cell_type": "code",
   "execution_count": null,
   "metadata": {},
   "outputs": [],
   "source": []
  },
  {
   "cell_type": "markdown",
   "metadata": {},
   "source": [
    "**str.format**"
   ]
  },
  {
   "cell_type": "code",
   "execution_count": null,
   "metadata": {},
   "outputs": [],
   "source": []
  },
  {
   "cell_type": "markdown",
   "metadata": {},
   "source": [
    "**f-string**  (always use this!)"
   ]
  },
  {
   "cell_type": "code",
   "execution_count": null,
   "metadata": {},
   "outputs": [],
   "source": []
  },
  {
   "cell_type": "markdown",
   "metadata": {},
   "source": [
    "### Slicing"
   ]
  },
  {
   "cell_type": "code",
   "execution_count": null,
   "metadata": {},
   "outputs": [],
   "source": []
  }
 ],
 "metadata": {
  "kernelspec": {
   "display_name": ".venv",
   "language": "python",
   "name": "python3"
  },
  "language_info": {
   "codemirror_mode": {
    "name": "ipython",
    "version": 3
   },
   "file_extension": ".py",
   "mimetype": "text/x-python",
   "name": "python",
   "nbconvert_exporter": "python",
   "pygments_lexer": "ipython3",
   "version": "3.11.4"
  },
  "orig_nbformat": 4
 },
 "nbformat": 4,
 "nbformat_minor": 2
}
